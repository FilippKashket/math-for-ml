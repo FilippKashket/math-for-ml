{
 "cells": [
  {
   "cell_type": "markdown",
   "metadata": {
    "colab_type": "text",
    "id": "-zOqnEVGugHU"
   },
   "source": [
    "# Блок 1.\n",
    "\n",
    "С помощью symPy найдите полиномы, описывающие данные наборы точек. Затем проведите полное исследование каждого полученного полинома: проверьте четность/нечетность, найдите нули, промежутки знакопостоянства. Постройте их графики. С помощью изменения промежутка для х добейтесь того, чтобы все нули были отображены на графике функции. <br><br><br>\n",
    "а) $(-4; -4268), (-3; -1227), (-1; -17), (1; 17), (3; 1227), (4; 4268)$<br><br>\n",
    "б)$ (-4; -16729), (-3; -3999), (-1; 5), (1; 1), (3; 4005), (4; 16735)$\n"
   ]
  },
  {
   "cell_type": "code",
   "execution_count": 4,
   "metadata": {
    "colab": {},
    "colab_type": "code",
    "id": "mO8e_U97uxvk"
   },
   "outputs": [],
   "source": [
    "from sympy import *\n",
    "from sympy.plotting import plot\n",
    "from sympy.solvers.inequalities import solve_univariate_inequality\n",
    "\n",
    "init_printing(use_unicode=False, wrap_line=False, no_global =True)"
   ]
  },
  {
   "cell_type": "markdown",
   "metadata": {},
   "source": [
    "а) $(-4; -4268), (-3; -1227), (-1; -17), (1; 17), (3; 1227), (4; 4268)$<br><br>"
   ]
  },
  {
   "cell_type": "code",
   "execution_count": 5,
   "metadata": {},
   "outputs": [
    {
     "data": {
      "image/png": "[encoded data removed]",
      "text/latex": [
       "$\\displaystyle a_{0} + a_{1} x + a_{2} x^{2} + a_{3} x^{3} + a_{4} x^{4} + a_{5} x^{5}$"
      ],
      "text/plain": [
       "                2       3       4       5\n",
       "a0 + a1*x + a2*x  + a3*x  + a4*x  + a5*x "
      ]
     },
     "execution_count": 5,
     "metadata": {},
     "output_type": "execute_result"
    }
   ],
   "source": [
    "#т.к. у нас тут 6 точек, то нужен полином 5й степени\n",
    "#создадим переменные\n",
    "a5, a4, a3,a2, a1, a0, x = symbols(\"a5, a4, a3, a2, a1, a0, x\")\n",
    "#запишем полином\n",
    "f = a5*x**5 + a4*x**4 + a3*x**3 + a2*x**2 + a1*x +a0\n",
    "f"
   ]
  },
  {
   "cell_type": "code",
   "execution_count": 13,
   "metadata": {},
   "outputs": [],
   "source": [
    "#Подставим тчоки в полином и запишем полученные уравненя  в систему\n",
    "eq1_lp = f.subs(x, -4) + 4268\n",
    "eq2_lp = f.subs(x, -3) + 1227\n",
    "eq3_lp = f.subs(x, -1) + 17\n",
    "eq4_lp = f.subs(x, 1) -17\n",
    "eq5_lp = f.subs(x, 3) - 1227\n",
    "eq6_lp = f.subs(x, 4) - 4268"
   ]
  },
  {
   "cell_type": "code",
   "execution_count": 15,
   "metadata": {},
   "outputs": [
    {
     "data": {
      "image/png": "[encoded data removed]",
      "text/latex": [
       "$\\displaystyle \\left\\{\\left( 3, \\  0, \\  19, \\  0, \\  -5, \\  0\\right)\\right\\}$"
      ],
      "text/plain": [
       "{(3, 0, 19, 0, -5, 0)}"
      ]
     },
     "execution_count": 15,
     "metadata": {},
     "output_type": "execute_result"
    }
   ],
   "source": [
    "# решим полученную систему\n",
    "nonlinsolve([eq1_lp, eq2_lp, eq3_lp, eq4_lp, eq5_lp, eq6_lp], [a5, a4, a3, a2, a1, a0])"
   ]
  },
  {
   "cell_type": "code",
   "execution_count": 16,
   "metadata": {},
   "outputs": [
    {
     "data": {
      "image/png": "[encoded data removed]",
      "text/latex": [
       "$\\displaystyle 3 x^{5} + 19 x^{3} - 5 x$"
      ],
      "text/plain": [
       "   5       3      \n",
       "3*x  + 19*x  - 5*x"
      ]
     },
     "execution_count": 16,
     "metadata": {},
     "output_type": "execute_result"
    }
   ],
   "source": [
    "#Запишем полученный полином\n",
    "f_new = 3*x**5 +19*x**3 -5*x\n",
    "f_new"
   ]
  },
  {
   "cell_type": "code",
   "execution_count": 17,
   "metadata": {},
   "outputs": [
    {
     "data": {
      "image/png": "[encoded data removed]",
      "text/latex": [
       "$\\displaystyle - 3 x^{5} - 19 x^{3} + 5 x$"
      ],
      "text/plain": [
       "     5       3      \n",
       "- 3*x  - 19*x  + 5*x"
      ]
     },
     "execution_count": 17,
     "metadata": {},
     "output_type": "execute_result"
    }
   ],
   "source": [
    "f_new.subs(x, -x)"
   ]
  },
  {
   "cell_type": "markdown",
   "metadata": {},
   "source": [
    "Функция является нечетной, это уже и так было видно из точек, но тут я на всякий случай проверил"
   ]
  },
  {
   "cell_type": "code",
   "execution_count": 18,
   "metadata": {},
   "outputs": [
    {
     "data": {
      "image/png": "[encoded data removed]",
      "text/latex": [
       "$\\displaystyle \\left[ 0, \\  - i \\sqrt{\\frac{19}{6} + \\frac{\\sqrt{421}}{6}}, \\  i \\sqrt{\\frac{19}{6} + \\frac{\\sqrt{421}}{6}}, \\  - \\sqrt{- \\frac{19}{6} + \\frac{\\sqrt{421}}{6}}, \\  \\sqrt{- \\frac{19}{6} + \\frac{\\sqrt{421}}{6}}\\right]$"
      ],
      "text/plain": [
       "            ______________         ______________        ________________       ________________ \n",
       "           /        _____         /        _____        /          _____       /          _____  \n",
       "          /  19   \\/ 421         /  19   \\/ 421        /    19   \\/ 421       /    19   \\/ 421   \n",
       "[0, -I*  /   -- + ------- , I*  /   -- + ------- , -  /   - -- + ------- ,   /   - -- + ------- ]\n",
       "       \\/    6       6        \\/    6       6       \\/      6       6      \\/      6       6     "
      ]
     },
     "execution_count": 18,
     "metadata": {},
     "output_type": "execute_result"
    }
   ],
   "source": [
    "#Найдем нули функции\n",
    "solve(f_new)"
   ]
  },
  {
   "cell_type": "code",
   "execution_count": 19,
   "metadata": {},
   "outputs": [
    {
     "data": {
      "image/png": "[encoded data removed]",
      "text/latex": [
       "$\\displaystyle \\left(x < 0 \\wedge - \\sqrt{- \\frac{19}{6} + \\frac{\\sqrt{421}}{6}} < x\\right) \\vee \\left(x < \\infty \\wedge \\sqrt{- \\frac{19}{6} + \\frac{\\sqrt{421}}{6}} < x\\right)$"
      ],
      "text/plain": [
       "  /   /             ________________    \\     /             ________________    \\\\\n",
       "  |   |            /          _____     |     |            /          _____     ||\n",
       "  |   |           /    19   \\/ 421      |     |           /    19   \\/ 421      ||\n",
       "Or|And|x < 0, -  /   - -- + -------  < x|, And|x < oo,   /   - -- + -------  < x||\n",
       "  \\   \\        \\/      6       6        /     \\        \\/      6       6        //"
      ]
     },
     "execution_count": 19,
     "metadata": {},
     "output_type": "execute_result"
    }
   ],
   "source": [
    "#найдем промежутки знаков постоянства\n",
    "solve_univariate_inequality(f_new>0, x)"
   ]
  },
  {
   "cell_type": "code",
   "execution_count": 20,
   "metadata": {},
   "outputs": [
    {
     "data": {
      "image/png": "[encoded data removed]",
      "text/latex": [
       "$\\displaystyle \\left(-\\infty < x \\wedge x < - \\sqrt{- \\frac{19}{6} + \\frac{\\sqrt{421}}{6}}\\right) \\vee \\left(0 < x \\wedge x < \\sqrt{- \\frac{19}{6} + \\frac{\\sqrt{421}}{6}}\\right)$"
      ],
      "text/plain": [
       "  /   /                   ________________\\     /                ________________\\\\\n",
       "  |   |                  /          _____ |     |               /          _____ ||\n",
       "  |   |                 /    19   \\/ 421  |     |              /    19   \\/ 421  ||\n",
       "Or|And|-oo < x, x < -  /   - -- + ------- |, And|0 < x, x <   /   - -- + ------- ||\n",
       "  \\   \\              \\/      6       6    /     \\           \\/      6       6    //"
      ]
     },
     "execution_count": 20,
     "metadata": {},
     "output_type": "execute_result"
    }
   ],
   "source": [
    "solve_univariate_inequality(f_new<0, x)"
   ]
  },
  {
   "cell_type": "code",
   "execution_count": 26,
   "metadata": {},
   "outputs": [
    {
     "data": {
      "image/png": "[encoded data removed]",
      "text/plain": [
       "<Figure size 432x288 with 1 Axes>"
      ]
     },
     "metadata": {
      "needs_background": "light"
     },
     "output_type": "display_data"
    },
    {
     "data": {
      "text/plain": [
       "<sympy.plotting.plot.Plot at 0x24e8abd4b00>"
      ]
     },
     "execution_count": 26,
     "metadata": {},
     "output_type": "execute_result"
    }
   ],
   "source": [
    "#Построим график\n",
    "plot(f_new,(x, -0.8, 0.8))"
   ]
  },
  {
   "cell_type": "markdown",
   "metadata": {},
   "source": [
    "б)$ (-4; -16729), (-3; -3999), (-1; 5), (1; 1), (3; 4005), (4; 16735)$"
   ]
  },
  {
   "cell_type": "code",
   "execution_count": 27,
   "metadata": {},
   "outputs": [
    {
     "data": {
      "image/png": "[encoded data removed]",
      "text/latex": [
       "$\\displaystyle a_{0} + a_{1} x + a_{2} x^{2} + a_{3} x^{3} + a_{4} x^{4} + a_{5} x^{5}$"
      ],
      "text/plain": [
       "                2       3       4       5\n",
       "a0 + a1*x + a2*x  + a3*x  + a4*x  + a5*x "
      ]
     },
     "execution_count": 27,
     "metadata": {},
     "output_type": "execute_result"
    }
   ],
   "source": [
    "#аналогично на 6 точке нужен полином 5й степени\n",
    "a5, a4, a3,a2, a1, a0, x = symbols(\"a5, a4, a3, a2, a1, a0, x\")\n",
    "#запишем полином\n",
    "f = a5*x**5 + a4*x**4 + a3*x**3 + a2*x**2 + a1*x +a0\n",
    "f"
   ]
  },
  {
   "cell_type": "code",
   "execution_count": 28,
   "metadata": {},
   "outputs": [],
   "source": [
    "#Подставим тчоки в полином и запишем полученные уравненя  в систему\n",
    "eq1_lp = f.subs(x, -4) + 16729\n",
    "eq2_lp = f.subs(x, -3) + 3999\n",
    "eq3_lp = f.subs(x, -1) -5\n",
    "eq4_lp = f.subs(x, 1) - 1\n",
    "eq5_lp = f.subs(x, 3) - 4005\n",
    "eq6_lp = f.subs(x, 4) - 16735"
   ]
  },
  {
   "cell_type": "code",
   "execution_count": 29,
   "metadata": {},
   "outputs": [
    {
     "data": {
      "image/png": "[encoded data removed]",
      "text/latex": [
       "$\\displaystyle \\left\\{\\left( 16, \\  0, \\  7, \\  0, \\  -25, \\  3\\right)\\right\\}$"
      ],
      "text/plain": [
       "{(16, 0, 7, 0, -25, 3)}"
      ]
     },
     "execution_count": 29,
     "metadata": {},
     "output_type": "execute_result"
    }
   ],
   "source": [
    "# решим полученную систему\n",
    "nonlinsolve([eq1_lp, eq2_lp, eq3_lp, eq4_lp, eq5_lp, eq6_lp], [a5, a4, a3, a2, a1, a0])"
   ]
  },
  {
   "cell_type": "code",
   "execution_count": 30,
   "metadata": {},
   "outputs": [
    {
     "data": {
      "image/png": "[encoded data removed]",
      "text/latex": [
       "$\\displaystyle 16 x^{5} + 7 x^{3} - 25 x + 3$"
      ],
      "text/plain": [
       "    5      3           \n",
       "16*x  + 7*x  - 25*x + 3"
      ]
     },
     "execution_count": 30,
     "metadata": {},
     "output_type": "execute_result"
    }
   ],
   "source": [
    "#Запишем полученный полином\n",
    "f2_new = 16*x**5 +7*x**3 -25*x+3\n",
    "f2_new"
   ]
  },
  {
   "cell_type": "code",
   "execution_count": 33,
   "metadata": {},
   "outputs": [
    {
     "data": {
      "image/png": "[encoded data removed]",
      "text/latex": [
       "$\\displaystyle - 16 x^{5} - 7 x^{3} + 25 x + 3$"
      ],
      "text/plain": [
       "      5      3           \n",
       "- 16*x  - 7*x  + 25*x + 3"
      ]
     },
     "execution_count": 33,
     "metadata": {},
     "output_type": "execute_result"
    }
   ],
   "source": [
    "f2_new.subs(x, -x)"
   ]
  },
  {
   "cell_type": "markdown",
   "metadata": {},
   "source": [
    "Функция не является ни четной ни нечетной"
   ]
  },
  {
   "cell_type": "code",
   "execution_count": 42,
   "metadata": {},
   "outputs": [
    {
     "data": {
      "image/png": "[encoded data removed]",
      "text/latex": [
       "$\\displaystyle \\left[ \\operatorname{CRootOf} {\\left(16 gen^{5} + 7 gen^{3} - 25 gen + 3, 0\\right)}, \\  \\operatorname{CRootOf} {\\left(16 gen^{5} + 7 gen^{3} - 25 gen + 3, 1\\right)}, \\  \\operatorname{CRootOf} {\\left(16 gen^{5} + 7 gen^{3} - 25 gen + 3, 2\\right)}, \\  \\operatorname{CRootOf} {\\left(16 gen^{5} + 7 gen^{3} - 25 gen + 3, 3\\right)}, \\  \\operatorname{CRootOf} {\\left(16 gen^{5} + 7 gen^{3} - 25 gen + 3, 4\\right)}\\right]$"
      ],
      "text/plain": [
       "        /      5        3                \\         /      5        3                \\         /      5        3                \\         /      5        3                \\         /      5        3                \\ \n",
       "[CRootOf\\16*gen  + 7*gen  - 25*gen + 3, 0/, CRootOf\\16*gen  + 7*gen  - 25*gen + 3, 1/, CRootOf\\16*gen  + 7*gen  - 25*gen + 3, 2/, CRootOf\\16*gen  + 7*gen  - 25*gen + 3, 3/, CRootOf\\16*gen  + 7*gen  - 25*gen + 3, 4/]"
      ]
     },
     "execution_count": 42,
     "metadata": {},
     "output_type": "execute_result"
    }
   ],
   "source": [
    "#найдем нули\n",
    "solve(f2_new)"
   ]
  },
  {
   "cell_type": "code",
   "execution_count": 43,
   "metadata": {},
   "outputs": [
    {
     "name": "stdout",
     "output_type": "stream",
     "text": [
      "[-1.05748920058586, 0.120506253533285, 0.986407581732483, -0.0247123173399549 - 1.22107053052891*I, -0.0247123173399549 + 1.22107053052891*I]\n"
     ]
    }
   ],
   "source": [
    "#Получили что-то не красивое, посмотрим приближенное значение\n",
    "print([N(solution) for solution in solve(f2_new)])"
   ]
  },
  {
   "cell_type": "code",
   "execution_count": 35,
   "metadata": {},
   "outputs": [
    {
     "data": {
      "image/png": "[encoded data removed]",
      "text/latex": [
       "$\\displaystyle \\left(x < \\infty \\wedge \\operatorname{CRootOf} {\\left(16 x^{5} + 7 x^{3} - 25 x + 3, 2\\right)} < x\\right) \\vee \\left(x < \\operatorname{CRootOf} {\\left(16 x^{5} + 7 x^{3} - 25 x + 3, 1\\right)} \\wedge \\operatorname{CRootOf} {\\left(16 x^{5} + 7 x^{3} - 25 x + 3, 0\\right)} < x\\right)$"
      ],
      "text/plain": [
       "  /   /               /    5      3              \\    \\     /           /    5      3              \\         /    5      3              \\    \\\\\n",
       "Or\\And\\x < oo, CRootOf\\16*x  + 7*x  - 25*x + 3, 2/ < x/, And\\x < CRootOf\\16*x  + 7*x  - 25*x + 3, 1/, CRootOf\\16*x  + 7*x  - 25*x + 3, 0/ < x//"
      ]
     },
     "execution_count": 35,
     "metadata": {},
     "output_type": "execute_result"
    }
   ],
   "source": [
    "#найдем промежутки знаков постоянства\n",
    "solve_univariate_inequality(f2_new>0, x)"
   ]
  },
  {
   "cell_type": "code",
   "execution_count": 37,
   "metadata": {},
   "outputs": [
    {
     "data": {
      "image/png": "[encoded data removed]",
      "text/latex": [
       "$\\displaystyle \\left(-\\infty < x \\wedge x < \\operatorname{CRootOf} {\\left(16 gen^{5} + 7 gen^{3} - 25 gen + 3, 0\\right)}\\right) \\vee \\left(x < \\operatorname{CRootOf} {\\left(16 gen^{5} + 7 gen^{3} - 25 gen + 3, 2\\right)} \\wedge \\operatorname{CRootOf} {\\left(16 gen^{5} + 7 gen^{3} - 25 gen + 3, 1\\right)} < x\\right)$"
      ],
      "text/plain": [
       "  /   /                    /      5        3                \\\\     /           /      5        3                \\         /      5        3                \\    \\\\\n",
       "Or\\And\\-oo < x, x < CRootOf\\16*gen  + 7*gen  - 25*gen + 3, 0//, And\\x < CRootOf\\16*gen  + 7*gen  - 25*gen + 3, 2/, CRootOf\\16*gen  + 7*gen  - 25*gen + 3, 1/ < x//"
      ]
     },
     "execution_count": 37,
     "metadata": {},
     "output_type": "execute_result"
    }
   ],
   "source": [
    "solve_univariate_inequality(f2_new<0, x)"
   ]
  },
  {
   "cell_type": "code",
   "execution_count": 45,
   "metadata": {},
   "outputs": [
    {
     "data": {
      "image/png": "[encoded data removed]",
      "text/plain": [
       "<Figure size 432x288 with 1 Axes>"
      ]
     },
     "metadata": {
      "needs_background": "light"
     },
     "output_type": "display_data"
    },
    {
     "data": {
      "text/plain": [
       "<sympy.plotting.plot.Plot at 0x24e8aeb6908>"
      ]
     },
     "execution_count": 45,
     "metadata": {},
     "output_type": "execute_result"
    }
   ],
   "source": [
    "#Построим график\n",
    "plot(f2_new,(x, -1.2, 1.2))"
   ]
  },
  {
   "cell_type": "markdown",
   "metadata": {
    "colab_type": "text",
    "id": "4jCUKC9CuyKO"
   },
   "source": [
    "# Блок 2."
   ]
  },
  {
   "cell_type": "code",
   "execution_count": 5,
   "metadata": {
    "colab": {},
    "colab_type": "code",
    "id": "5ElcKCqet0wk"
   },
   "outputs": [],
   "source": [
    "from sympy import *\n",
    "from sympy.plotting import plot\n",
    "init_printing(use_unicode=False, wrap_line=False, no_global=True)"
   ]
  },
  {
   "cell_type": "code",
   "execution_count": 6,
   "metadata": {
    "colab": {},
    "colab_type": "code",
    "id": "QwTY4Sq8t0w2"
   },
   "outputs": [],
   "source": [
    "import matplotlib.pyplot as plt\n",
    "import numpy as np"
   ]
  },
  {
   "cell_type": "code",
   "execution_count": 7,
   "metadata": {
    "colab": {},
    "colab_type": "code",
    "id": "Y0t8k28Jt0xG"
   },
   "outputs": [],
   "source": [
    "x = Symbol('x')"
   ]
  },
  {
   "cell_type": "markdown",
   "metadata": {
    "colab_type": "text",
    "id": "wLhMVWF9t0xQ"
   },
   "source": [
    "## 1.\n",
    "### Получите значение MSE меньшее 5."
   ]
  },
  {
   "cell_type": "code",
   "execution_count": 49,
   "metadata": {
    "colab": {},
    "colab_type": "code",
    "id": "LX3-aD49t0xU"
   },
   "outputs": [],
   "source": [
    "def print_points_ands_function1(sympy_function):\n",
    "    def function(x_): return float(sympy_function.subs(x, x_))\n",
    "    \n",
    "    points_X = np.array([-2, -1, 0, 1, 2, 3, 3.5, 4, 4.5, 5])\n",
    "    points_Y = np.array([2, -4, 1, 8, 21, 40, 47, 65, 75, 92])\n",
    "    plt.xlim(-6, 10)\n",
    "    plt.ylim(-1, 100)\n",
    "    \n",
    "    plt.scatter(points_X, points_Y, c='r')\n",
    "    x_range = np.linspace(plt.xlim()[0], plt.xlim()[1], num=100)\n",
    "    function_Y = [function(x_) for x_ in x_range]\n",
    "    plt.plot(x_range, function_Y, 'b')\n",
    "    plt.show()\n",
    "    \n",
    "    MSE = sum([(points_Y[i] - function(points_X[i]))**2 for i in range(len(points_Y))]) / len(points_Y)\n",
    "    print(f'MSE = {MSE}')"
   ]
  },
  {
   "cell_type": "code",
   "execution_count": 50,
   "metadata": {
    "colab": {},
    "colab_type": "code",
    "id": "tCcjAV0qt0xb",
    "outputId": "7d73b65e-59f0-4d31-c914-f97d7da81900"
   },
   "outputs": [
    {
     "data": {
      "image/png": "[encoded data removed]",
      "text/latex": [
       "$\\displaystyle 48 x^{2} - 128 x + 83$"
      ],
      "text/plain": [
       "    2             \n",
       "48*x  - 128*x + 83"
      ]
     },
     "execution_count": 50,
     "metadata": {},
     "output_type": "execute_result"
    }
   ],
   "source": [
    "f1 = 48 * x**2 - 128 * x + 83\n",
    "f1"
   ]
  },
  {
   "cell_type": "code",
   "execution_count": 51,
   "metadata": {
    "colab": {},
    "colab_type": "code",
    "id": "VQwDN4XLt0xl",
    "outputId": "a46d8327-06b3-4fbc-fa5d-6a1e4648a22e"
   },
   "outputs": [
    {
     "data": {
      "image/png": "[encoded data removed]",
      "text/plain": [
       "<Figure size 432x288 with 1 Axes>"
      ]
     },
     "metadata": {
      "needs_background": "light"
     },
     "output_type": "display_data"
    },
    {
     "name": "stdout",
     "output_type": "stream",
     "text": [
      "MSE = 93691.3\n"
     ]
    }
   ],
   "source": [
    "print_points_ands_function1(f1)"
   ]
  },
  {
   "cell_type": "code",
   "execution_count": 84,
   "metadata": {},
   "outputs": [
    {
     "data": {
      "image/png": "[encoded data removed]",
      "text/latex": [
       "$\\displaystyle - \\frac{64 x}{9} + \\frac{8 \\left(x + 2.2\\right)^{2}}{3} - 11.0333333333333$"
      ],
      "text/plain": [
       "                    2                   \n",
       "  64*x   8*(x + 2.2)                    \n",
       "- ---- + ------------ - 11.0333333333333\n",
       "   9          3                         "
      ]
     },
     "execution_count": 84,
     "metadata": {},
     "output_type": "execute_result"
    }
   ],
   "source": [
    "f1_new = f1/18\n",
    "f1_new = f1_new.subs(x, x+2.2)\n",
    "f1_new"
   ]
  },
  {
   "cell_type": "code",
   "execution_count": 85,
   "metadata": {},
   "outputs": [
    {
     "data": {
      "image/png": "[encoded data removed]",
      "text/plain": [
       "<Figure size 432x288 with 1 Axes>"
      ]
     },
     "metadata": {
      "needs_background": "light"
     },
     "output_type": "display_data"
    },
    {
     "name": "stdout",
     "output_type": "stream",
     "text": [
      "MSE = 4.045279012345675\n"
     ]
    }
   ],
   "source": [
    "print_points_ands_function1(f1_new)"
   ]
  },
  {
   "cell_type": "markdown",
   "metadata": {
    "colab_type": "text",
    "id": "HRrtO4Lyt0xt"
   },
   "source": [
    "## 2.\n",
    "### Получите значение MSE меньшее 35."
   ]
  },
  {
   "cell_type": "code",
   "execution_count": 8,
   "metadata": {
    "colab": {},
    "colab_type": "code",
    "id": "dm_YVXYgt0xw"
   },
   "outputs": [],
   "source": [
    "def print_points_ands_function2(sympy_function):\n",
    "    def function(x_): return float(sympy_function.subs(x, x_))\n",
    "    \n",
    "    points_X = np.array([-2, -1, 0, 1, 2, 3, 3.5, 4, 4.5, 5])\n",
    "    points_Y = np.array([-31, -9, 4, -1, 9, 24, 47, 92, 120, 170])\n",
    "    plt.xlim(-3, 6)\n",
    "    plt.ylim(-35, 200)\n",
    "    \n",
    "    plt.scatter(points_X, points_Y, c='r')\n",
    "    x_range = np.linspace(plt.xlim()[0], plt.xlim()[1], num=100)\n",
    "    function_Y = [function(x_) for x_ in x_range]\n",
    "    plt.plot(x_range, function_Y, 'b')\n",
    "    plt.show()\n",
    "    \n",
    "    MSE = sum([(points_Y[i] - function(points_X[i]))**2 for i in range(len(points_Y))]) / len(points_Y)\n",
    "    print(f'MSE = {MSE}')"
   ]
  },
  {
   "cell_type": "code",
   "execution_count": 9,
   "metadata": {
    "colab": {},
    "colab_type": "code",
    "id": "7LMQiJDKt0x1",
    "outputId": "8b8d6fed-a7c9-4a8d-c9f8-9ace332dd838"
   },
   "outputs": [
    {
     "data": {
      "image/png": "[encoded data removed]",
      "text/latex": [
       "$\\displaystyle 4 x^{3} + 30 x^{2} + 74 x + 62$"
      ],
      "text/plain": [
       "   3       2            \n",
       "4*x  + 30*x  + 74*x + 62"
      ]
     },
     "execution_count": 9,
     "metadata": {},
     "output_type": "execute_result"
    }
   ],
   "source": [
    "f2 = 4 * x**3 + 30 * x**2 + 74 * x + 62\n",
    "f2"
   ]
  },
  {
   "cell_type": "code",
   "execution_count": 10,
   "metadata": {
    "colab": {},
    "colab_type": "code",
    "id": "SjwUXoCXt0x6",
    "outputId": "a5e8c7e9-602e-430b-acd3-c8c5bd2b055e"
   },
   "outputs": [
    {
     "data": {
      "image/png": "[encoded data removed]",
      "text/plain": [
       "<Figure size 432x288 with 1 Axes>"
      ]
     },
     "metadata": {
      "needs_background": "light"
     },
     "output_type": "display_data"
    },
    {
     "name": "stdout",
     "output_type": "stream",
     "text": [
      "MSE = 607200.2\n"
     ]
    }
   ],
   "source": [
    "print_points_ands_function2(f2)"
   ]
  },
  {
   "cell_type": "code",
   "execution_count": 11,
   "metadata": {},
   "outputs": [
    {
     "data": {
      "image/png": "[encoded data removed]",
      "text/latex": [
       "$\\displaystyle 59.2 x + 4 \\left(0.8 x - 2.96\\right)^{3} + 30 \\left(0.8 x - 2.96\\right)^{2} - 157.04$"
      ],
      "text/plain": [
       "                         3                    2         \n",
       "59.2*x + 4*(0.8*x - 2.96)  + 30*(0.8*x - 2.96)  - 157.04"
      ]
     },
     "execution_count": 11,
     "metadata": {},
     "output_type": "execute_result"
    }
   ],
   "source": [
    "f2_new = f2.subs(x, (x-3.7)/1.25)\n",
    "f2_new"
   ]
  },
  {
   "cell_type": "code",
   "execution_count": 12,
   "metadata": {},
   "outputs": [
    {
     "data": {
      "image/png": "[encoded data removed]",
      "text/plain": [
       "<Figure size 432x288 with 1 Axes>"
      ]
     },
     "metadata": {
      "needs_background": "light"
     },
     "output_type": "display_data"
    },
    {
     "name": "stdout",
     "output_type": "stream",
     "text": [
      "MSE = 22.92423052697598\n"
     ]
    }
   ],
   "source": [
    "print_points_ands_function2(f2_new)"
   ]
  },
  {
   "cell_type": "markdown",
   "metadata": {
    "colab_type": "text",
    "id": "xYJNX-nUt0x_"
   },
   "source": [
    "## 3.\n",
    "### Получите значение MSE меньшее 3300."
   ]
  },
  {
   "cell_type": "code",
   "execution_count": 116,
   "metadata": {
    "colab": {},
    "colab_type": "code",
    "id": "UNLnKjvit0yB"
   },
   "outputs": [],
   "source": [
    "def print_points_ands_function3(sympy_function):\n",
    "    def function(x_): return float(sympy_function.subs(x, x_))\n",
    "    \n",
    "    points_X = np.array([-2, -1, 0, 1, 2, 3, 3.5, 4, 4.5, 5])\n",
    "    points_Y = np.array([60, 25, 4, -0, -57, -195, -295, -540, -700, -760])\n",
    "    plt.xlim(-10, 6)\n",
    "    plt.ylim(-850, 100)\n",
    "    \n",
    "    plt.scatter(points_X, points_Y, c='r')\n",
    "    x_range = np.linspace(plt.xlim()[0], plt.xlim()[1], num=100)\n",
    "    function_Y = [function(x_) for x_ in x_range]\n",
    "    plt.plot(x_range, function_Y, 'b')\n",
    "    plt.show()\n",
    "    \n",
    "    MSE = sum([(points_Y[i] - function(points_X[i]))**2 for i in range(len(points_Y))]) / len(points_Y)\n",
    "    print(f'MSE = {MSE}')"
   ]
  },
  {
   "cell_type": "code",
   "execution_count": 117,
   "metadata": {
    "colab": {},
    "colab_type": "code",
    "id": "osbCVOuIt0yH",
    "outputId": "22bfe175-fcf5-4290-9dd1-3b2fc34ff029"
   },
   "outputs": [
    {
     "data": {
      "image/png": "[encoded data removed]",
      "text/latex": [
       "$\\displaystyle - 36 x^{3} - 756 x^{2} - 5334 x - 12636$"
      ],
      "text/plain": [
       "      3        2                 \n",
       "- 36*x  - 756*x  - 5334*x - 12636"
      ]
     },
     "execution_count": 117,
     "metadata": {},
     "output_type": "execute_result"
    }
   ],
   "source": [
    "f3 = -36 * x**3 - 756 * x**2 - 5334 * x - 12636\n",
    "f3"
   ]
  },
  {
   "cell_type": "code",
   "execution_count": 118,
   "metadata": {
    "colab": {},
    "colab_type": "code",
    "id": "1T4lJVQPt0yR",
    "outputId": "ab86dbbf-6fd9-42a9-f5ef-6316179ace4f"
   },
   "outputs": [
    {
     "data": {
      "image/png": "[encoded data removed]",
      "text/plain": [
       "<Figure size 432x288 with 1 Axes>"
      ]
     },
     "metadata": {
      "needs_background": "light"
     },
     "output_type": "display_data"
    },
    {
     "name": "stdout",
     "output_type": "stream",
     "text": [
      "MSE = 1346344545.35\n"
     ]
    }
   ],
   "source": [
    "print_points_ands_function3(f3)"
   ]
  },
  {
   "cell_type": "code",
   "execution_count": 143,
   "metadata": {},
   "outputs": [
    {
     "data": {
      "image/png": "[encoded data removed]",
      "text/latex": [
       "$\\displaystyle - 2667 x - 36 \\left(\\frac{x}{2} - 6.75\\right)^{3} - 756 \\left(\\frac{x}{2} - 6.75\\right)^{2} + 23368.5$"
      ],
      "text/plain": [
       "                       3                 2          \n",
       "             /x       \\        /x       \\           \n",
       "-2667*x - 36*|- - 6.75|  - 756*|- - 6.75|  + 23368.5\n",
       "             \\2       /        \\2       /           "
      ]
     },
     "execution_count": 143,
     "metadata": {},
     "output_type": "execute_result"
    }
   ],
   "source": [
    "f3_new = f3.subs(x, (x-13.5)/2)\n",
    "f3_new"
   ]
  },
  {
   "cell_type": "code",
   "execution_count": 144,
   "metadata": {},
   "outputs": [
    {
     "data": {
      "image/png": "[encoded data removed]",
      "text/plain": [
       "<Figure size 432x288 with 1 Axes>"
      ]
     },
     "metadata": {
      "needs_background": "light"
     },
     "output_type": "display_data"
    },
    {
     "name": "stdout",
     "output_type": "stream",
     "text": [
      "MSE = 2759.478125\n"
     ]
    }
   ],
   "source": [
    "print_points_ands_function3(f3_new)"
   ]
  },
  {
   "cell_type": "markdown",
   "metadata": {
    "colab_type": "text",
    "id": "3jcBH1M3t0yZ"
   },
   "source": [
    "## 4.\n",
    "### Получите значение MSE меньшее 25."
   ]
  },
  {
   "cell_type": "code",
   "execution_count": 145,
   "metadata": {
    "colab": {},
    "colab_type": "code",
    "id": "R4nnsc8zt0yb"
   },
   "outputs": [],
   "source": [
    "def print_points_ands_function4(sympy_function):\n",
    "    def function(x_): return float(sympy_function.subs(x, x_))\n",
    "    \n",
    "    points_X = np.array([-2, -1, 0, 1, 2, 3, 3.5, 4, 4.5, 5])\n",
    "    points_Y = np.array([-42, -37, -23, -36, -45, -80, -83, -110, -131, -155])\n",
    "    plt.xlim(-4, 20)\n",
    "    plt.ylim(-160, -10)\n",
    "    \n",
    "    plt.scatter(points_X, points_Y, c='r')\n",
    "    x_range = np.linspace(plt.xlim()[0], plt.xlim()[1], num=100)\n",
    "    function_Y = [function(x_) for x_ in x_range]\n",
    "    plt.plot(x_range, function_Y, 'b')\n",
    "    plt.show()\n",
    "    \n",
    "    MSE = sum([(points_Y[i] - function(points_X[i]))**2 for i in range(len(points_Y))]) / len(points_Y)\n",
    "    print(f'MSE = {MSE}')"
   ]
  },
  {
   "cell_type": "code",
   "execution_count": 146,
   "metadata": {
    "colab": {},
    "colab_type": "code",
    "id": "Uq__GcfPt0yj",
    "outputId": "345572d8-35a9-47c2-d7c9-4769bd8d17e7"
   },
   "outputs": [
    {
     "data": {
      "image/png": "[encoded data removed]",
      "text/latex": [
       "$\\displaystyle - 1.25 x^{2} + 25 x - 152$"
      ],
      "text/plain": [
       "        2             \n",
       "- 1.25*x  + 25*x - 152"
      ]
     },
     "execution_count": 146,
     "metadata": {},
     "output_type": "execute_result"
    }
   ],
   "source": [
    "f4 = - 5 / 4 * x**2 + 25 * x - 152\n",
    "f4"
   ]
  },
  {
   "cell_type": "code",
   "execution_count": 147,
   "metadata": {
    "colab": {},
    "colab_type": "code",
    "id": "Muwpsp8tt0yp",
    "outputId": "99828dab-4bd6-434b-fdc9-ee8fa9113858"
   },
   "outputs": [
    {
     "data": {
      "image/png": "[encoded data removed]",
      "text/plain": [
       "<Figure size 432x288 with 1 Axes>"
      ]
     },
     "metadata": {
      "needs_background": "light"
     },
     "output_type": "display_data"
    },
    {
     "name": "stdout",
     "output_type": "stream",
     "text": [
      "MSE = 9143.51953125\n"
     ]
    }
   ],
   "source": [
    "print_points_ands_function4(f4)"
   ]
  },
  {
   "cell_type": "code",
   "execution_count": 229,
   "metadata": {
    "colab": {},
    "colab_type": "code",
    "id": "oTNLmWfDt0yt"
   },
   "outputs": [
    {
     "data": {
      "image/png": "[encoded data removed]",
      "text/latex": [
       "$\\displaystyle 51.25 x - 1.25 \\left(2.05 x + 9.84\\right)^{2} + 93.9999999999999$"
      ],
      "text/plain": [
       "                              2                   \n",
       "51.25*x - 1.25*(2.05*x + 9.84)  + 93.9999999999999"
      ]
     },
     "execution_count": 229,
     "metadata": {},
     "output_type": "execute_result"
    }
   ],
   "source": [
    "f4_new = f4.subs(x,(x+ 4.8)*2.05)\n",
    "f4_new"
   ]
  },
  {
   "cell_type": "code",
   "execution_count": 230,
   "metadata": {},
   "outputs": [
    {
     "data": {
      "image/png": "[encoded data removed]",
      "text/plain": [
       "<Figure size 432x288 with 1 Axes>"
      ]
     },
     "metadata": {
      "needs_background": "light"
     },
     "output_type": "display_data"
    },
    {
     "name": "stdout",
     "output_type": "stream",
     "text": [
      "MSE = 21.685025059570254\n"
     ]
    }
   ],
   "source": [
    "print_points_ands_function4(f4_new)"
   ]
  }
 ],
 "metadata": {
  "colab": {
   "collapsed_sections": [],
   "name": "Аппроксимация и преобразования функций. Домашнее задание.ipynb",
   "provenance": []
  },
  "kernelspec": {
   "display_name": "Python 3",
   "language": "python",
   "name": "python3"
  },
  "language_info": {
   "codemirror_mode": {
    "name": "ipython",
    "version": 3
   },
   "file_extension": ".py",
   "mimetype": "text/x-python",
   "name": "python",
   "nbconvert_exporter": "python",
   "pygments_lexer": "ipython3",
   "version": "3.7.3"
  }
 },
 "nbformat": 4,
 "nbformat_minor": 4
}
