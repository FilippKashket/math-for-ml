{
  "nbformat": 4,
  "nbformat_minor": 0,
  "metadata": {
    "kernelspec": {
      "display_name": "Python 3",
      "language": "python",
      "name": "python3"
    },
    "language_info": {
      "codemirror_mode": {
        "name": "ipython",
        "version": 3
      },
      "file_extension": ".py",
      "mimetype": "text/x-python",
      "name": "python",
      "nbconvert_exporter": "python",
      "pygments_lexer": "ipython3",
      "version": "3.7.3"
    },
    "colab": {
      "name": "5.3 Преобразования функций Сдвиги вправо и влево.ipynb",
      "provenance": []
    }
  },
  "cells": [
    {
      "cell_type": "code",
      "metadata": {
        "id": "Pfr8LT6yu949",
        "colab_type": "code",
        "colab": {}
      },
      "source": [
        "from sympy import *\n",
        "from sympy.plotting import plot\n",
        "init_printing(use_unicode=False, wrap_line=False, no_global=True)"
      ],
      "execution_count": 0,
      "outputs": []
    },
    {
      "cell_type": "code",
      "metadata": {
        "id": "NP1veLzku95d",
        "colab_type": "code",
        "colab": {}
      },
      "source": [
        "def print_points_ands_function(sympy_function):\n",
        "    def function(x_): return float(sympy_function.subs(x, x_))\n",
        "    \n",
        "    points_X = np.array([-3, -2, -1, 1, 2, 3])\n",
        "    points_Y = np.array([15.0, 8.0, 13.0, 10.0, 15.0, 30.0])\n",
        "    plt.xlim(-25, 7.5)\n",
        "    plt.ylim(-1, 40)\n",
        "    \n",
        "    plt.scatter(points_X, points_Y, c='r')\n",
        "    x_range = np.linspace(plt.xlim()[0], plt.xlim()[1], num=100)\n",
        "    function_Y = [function(x_) for x_ in x_range]\n",
        "    plt.plot(x_range, function_Y, 'b')\n",
        "    plt.show()\n",
        "    \n",
        "    MSE = sum([(points_Y[i] - function(points_X[i]))**2 for i in range(len(points_Y))]) / len(points_Y)\n",
        "    print(f'MSE = {MSE}')"
      ],
      "execution_count": 0,
      "outputs": []
    },
    {
      "cell_type": "code",
      "metadata": {
        "id": "SXruUh0Hu95z",
        "colab_type": "code",
        "outputId": "3cefbfc3-bc95-4784-8366-4ef0755a1358",
        "colab": {}
      },
      "source": [
        "x = Symbol('x')\n",
        "f = x ** 2 + 32 * x + 265\n",
        "f"
      ],
      "execution_count": 0,
      "outputs": [
        {
          "output_type": "execute_result",
          "data": {
            "image/png": "[encoded data removed]",
            "text/latex": "$\\displaystyle x^{2} + 32 x + 265$",
            "text/plain": [
              " 2             \n",
              "x  + 32*x + 265"
            ]
          },
          "metadata": {
            "tags": []
          },
          "execution_count": 5
        }
      ]
    },
    {
      "cell_type": "code",
      "metadata": {
        "id": "lgyn-B5iu96E",
        "colab_type": "code",
        "outputId": "bb01dc63-7247-4a5c-8c84-bca7ba79ed61",
        "colab": {}
      },
      "source": [
        "f = x**2\n",
        "f"
      ],
      "execution_count": 0,
      "outputs": [
        {
          "output_type": "execute_result",
          "data": {
            "image/png": "[encoded data removed]",
            "text/latex": "$\\displaystyle x^{2}$",
            "text/plain": [
              " 2\n",
              "x "
            ]
          },
          "metadata": {
            "tags": []
          },
          "execution_count": 9
        }
      ]
    },
    {
      "cell_type": "code",
      "metadata": {
        "id": "5-xJraHTu96X",
        "colab_type": "code",
        "outputId": "5fb25ce0-2ce8-49d7-e6b5-c0f591504822",
        "colab": {}
      },
      "source": [
        "f.subs(x, -x)"
      ],
      "execution_count": 0,
      "outputs": [
        {
          "output_type": "execute_result",
          "data": {
            "image/png": "[encoded data removed]",
            "text/latex": "$\\displaystyle x^{2}$",
            "text/plain": [
              " 2\n",
              "x "
            ]
          },
          "metadata": {
            "tags": []
          },
          "execution_count": 7
        }
      ]
    },
    {
      "cell_type": "code",
      "metadata": {
        "id": "6t6BEhRNu96k",
        "colab_type": "code",
        "outputId": "8b7dccee-2717-4ffa-f535-02abb934faa8",
        "colab": {}
      },
      "source": [
        "f = x**3\n",
        "f"
      ],
      "execution_count": 0,
      "outputs": [
        {
          "output_type": "execute_result",
          "data": {
            "image/png": "[encoded data removed]",
            "text/latex": "$\\displaystyle x^{3}$",
            "text/plain": [
              " 3\n",
              "x "
            ]
          },
          "metadata": {
            "tags": []
          },
          "execution_count": 10
        }
      ]
    },
    {
      "cell_type": "code",
      "metadata": {
        "id": "EXuL5Us1u96w",
        "colab_type": "code",
        "outputId": "49dac505-c1df-4bb0-89fc-ba8ddf664fa9",
        "colab": {}
      },
      "source": [
        "f.subs(x, -x)"
      ],
      "execution_count": 0,
      "outputs": [
        {
          "output_type": "execute_result",
          "data": {
            "image/png": "[encoded data removed]",
            "text/latex": "$\\displaystyle - x^{3}$",
            "text/plain": [
              "  3\n",
              "-x "
            ]
          },
          "metadata": {
            "tags": []
          },
          "execution_count": 11
        }
      ]
    },
    {
      "cell_type": "code",
      "metadata": {
        "id": "d-TXLbKSu961",
        "colab_type": "code",
        "outputId": "6a6b2c43-e4fc-4e65-ff5c-be5325e549c2",
        "colab": {}
      },
      "source": [
        "print_points_ands_function(f)"
      ],
      "execution_count": 0,
      "outputs": [
        {
          "output_type": "display_data",
          "data": {
            "image/png": "[encoded data removed]",
            "text/plain": [
              "<Figure size 432x288 with 1 Axes>"
            ]
          },
          "metadata": {
            "tags": [],
            "needs_background": "light"
          }
        },
        {
          "output_type": "stream",
          "text": [
            "MSE = 68981.16666666667\n"
          ],
          "name": "stdout"
        }
      ]
    },
    {
      "cell_type": "code",
      "metadata": {
        "id": "VlzAp3y8u96-",
        "colab_type": "code",
        "outputId": "b4019473-67e8-4dc8-af9c-bce110ad13c9",
        "colab": {}
      },
      "source": [
        "f_new = f.subs(x, x - 20)\n",
        "f_new"
      ],
      "execution_count": 0,
      "outputs": [
        {
          "output_type": "execute_result",
          "data": {
            "image/png": "[encoded data removed]",
            "text/latex": "$\\displaystyle 32 x + \\left(x - 20\\right)^{2} - 375$",
            "text/plain": [
              "               2      \n",
              "32*x + (x - 20)  - 375"
            ]
          },
          "metadata": {
            "tags": []
          },
          "execution_count": 19
        }
      ]
    },
    {
      "cell_type": "code",
      "metadata": {
        "id": "_ioClyWLu97D",
        "colab_type": "code",
        "outputId": "02cb3746-a938-4272-91ec-0f73a32f4364",
        "colab": {}
      },
      "source": [
        "f_new = expand(f_new)\n",
        "f_new"
      ],
      "execution_count": 0,
      "outputs": [
        {
          "output_type": "execute_result",
          "data": {
            "image/png": "[encoded data removed]",
            "text/latex": "$\\displaystyle x^{2} - 8 x + 25$",
            "text/plain": [
              " 2           \n",
              "x  - 8*x + 25"
            ]
          },
          "metadata": {
            "tags": []
          },
          "execution_count": 20
        }
      ]
    },
    {
      "cell_type": "code",
      "metadata": {
        "id": "w2sYrbhku97J",
        "colab_type": "code",
        "outputId": "0fbec65e-ca85-403f-a11f-2dfa6d35e1e3",
        "colab": {}
      },
      "source": [
        "print_points_ands_function(f_new)"
      ],
      "execution_count": 0,
      "outputs": [
        {
          "output_type": "display_data",
          "data": {
            "image/png": "[encoded data removed]",
            "text/plain": [
              "<Figure size 432x288 with 1 Axes>"
            ]
          },
          "metadata": {
            "tags": [],
            "needs_background": "light"
          }
        },
        {
          "output_type": "stream",
          "text": [
            "MSE = 687.8333333333334\n"
          ],
          "name": "stdout"
        }
      ]
    },
    {
      "cell_type": "code",
      "metadata": {
        "id": "aalR_P8wu97Q",
        "colab_type": "code",
        "outputId": "6c8a00ff-e7e3-4a34-8643-51b2550b4621",
        "colab": {}
      },
      "source": [
        "f_new2 = expand(f_new.subs(x, x + 5))\n",
        "f_new2"
      ],
      "execution_count": 0,
      "outputs": [
        {
          "output_type": "execute_result",
          "data": {
            "image/png": "[encoded data removed]",
            "text/latex": "$\\displaystyle x^{2} + 2 x + 10$",
            "text/plain": [
              " 2           \n",
              "x  + 2*x + 10"
            ]
          },
          "metadata": {
            "tags": []
          },
          "execution_count": 24
        }
      ]
    },
    {
      "cell_type": "code",
      "metadata": {
        "id": "WvKVb39yu97U",
        "colab_type": "code",
        "outputId": "fd3e1143-d2a8-45b0-f598-01e02cde0321",
        "colab": {}
      },
      "source": [
        "print_points_ands_function(f_new2)"
      ],
      "execution_count": 0,
      "outputs": [
        {
          "output_type": "display_data",
          "data": {
            "image/png": "[encoded data removed]",
            "text/plain": [
              "<Figure size 432x288 with 1 Axes>"
            ]
          },
          "metadata": {
            "tags": [],
            "needs_background": "light"
          }
        },
        {
          "output_type": "stream",
          "text": [
            "MSE = 11.166666666666666\n"
          ],
          "name": "stdout"
        }
      ]
    },
    {
      "cell_type": "code",
      "metadata": {
        "id": "JCAdViq_u97Y",
        "colab_type": "code",
        "colab": {}
      },
      "source": [
        ""
      ],
      "execution_count": 0,
      "outputs": []
    }
  ]
}