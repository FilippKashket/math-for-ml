{
 "cells": [
  {
   "cell_type": "markdown",
   "metadata": {
    "colab_type": "text",
    "id": "yyo73hwFEoJt"
   },
   "source": [
    "## Преобразования функций и полиномы. Домашнее задание\n",
    "\n",
    "С помощью SymPy найдите полиномы, описывающие данные наборы точек. Затем проведите полное исследование каждого полученного полинома: проверьте четность/нечетность, найдите нули, промежутки знакопостоянства. Постройте их графики. С помощью изменения промежутка для х добейтесь того, чтобы все нули были отображены на графике функции.<br><br>\n",
    "Средний уровень <br><br>\n",
    "$(-2, 2), (-1, 1), (0, 0), (1, 1), (2, 2)$<br><br>\n",
    "Сложный уровень <br><br>\n",
    "$(-3, 33), (-2, 31), (-1, 18), (1, -18), (2, -31), (3, -33)$\n"
   ]
  },
  {
   "cell_type": "code",
   "execution_count": 18,
   "metadata": {
    "colab": {},
    "colab_type": "code",
    "id": "bVBLXKfjEiEA"
   },
   "outputs": [],
   "source": [
    "from sympy import *\n",
    "from sympy.plotting import plot\n",
    "from sympy.solvers.inequalities import solve_univariate_inequality\n",
    "\n",
    "init_printing(use_unicode=False, wrap_line=False, no_global =True)"
   ]
  },
  {
   "cell_type": "markdown",
   "metadata": {},
   "source": [
    "1. $(-2, 2), (-1, 1), (0, 0), (1, 1), (2, 2)$<br><br>"
   ]
  },
  {
   "cell_type": "code",
   "execution_count": 4,
   "metadata": {},
   "outputs": [
    {
     "data": {
      "image/png": "[encoded data removed]",
      "text/latex": [
       "$\\displaystyle a_{0} + a_{1} x + a_{2} x^{2} + a_{3} x^{3} + a_{4} x^{4}$"
      ],
      "text/plain": [
       "                2       3       4\n",
       "a0 + a1*x + a2*x  + a3*x  + a4*x "
      ]
     },
     "execution_count": 4,
     "metadata": {},
     "output_type": "execute_result"
    }
   ],
   "source": [
    "#Обявим переменные и полином четвертой степени (т.к. у нас 5 точек)\n",
    "a4, a3, a2, a1, a0, x =symbols('a4, a3, a2, a1, a0, x')\n",
    "f = a4*x**4 + a3*x**3 + a2*x**2+a1*x+a0\n",
    "f"
   ]
  },
  {
   "cell_type": "code",
   "execution_count": 5,
   "metadata": {},
   "outputs": [],
   "source": [
    "#Подставим занчения точек в функуию и получим пять уравнений\n",
    "eq1_lp = f.subs(x, -2) - 2\n",
    "eq2_lp = f.subs(x, -1) - 1\n",
    "eq3_lp = f.subs(x, 0)\n",
    "eq4_lp = f.subs(x, 1) - 1\n",
    "eq5_lp = f.subs(x, 2) - 2"
   ]
  },
  {
   "cell_type": "code",
   "execution_count": 6,
   "metadata": {},
   "outputs": [
    {
     "data": {
      "image/png": "[encoded data removed]",
      "text/latex": [
       "$\\displaystyle \\left\\{\\left( - \\frac{1}{6}, \\  0, \\  \\frac{7}{6}, \\  0, \\  0\\right)\\right\\}$"
      ],
      "text/plain": [
       "{(-1/6, 0, 7/6, 0, 0)}"
      ]
     },
     "execution_count": 6,
     "metadata": {},
     "output_type": "execute_result"
    }
   ],
   "source": [
    "#Решим получившуюся систему\n",
    "nonlinsolve([eq1_lp, eq2_lp, eq3_lp, eq4_lp, eq5_lp],[a4, a3, a2, a1, a0])"
   ]
  },
  {
   "cell_type": "code",
   "execution_count": 9,
   "metadata": {},
   "outputs": [
    {
     "data": {
      "image/png": "[encoded data removed]",
      "text/latex": [
       "$\\displaystyle - 0.166666666666667 x^{4} + 1.16666666666667 x^{2}$"
      ],
      "text/plain": [
       "                     4                     2\n",
       "- 0.166666666666667*x  + 1.16666666666667*x "
      ]
     },
     "execution_count": 9,
     "metadata": {},
     "output_type": "execute_result"
    }
   ],
   "source": [
    "#Запишем получившееся уравнение\n",
    "f1 = -(1/6)*x**4 + (7/6)*x**2\n",
    "f1"
   ]
  },
  {
   "cell_type": "code",
   "execution_count": 14,
   "metadata": {},
   "outputs": [
    {
     "name": "stdout",
     "output_type": "stream",
     "text": [
      "При х=-2 f= 2.00\n",
      "При х=-1 f=1.00\n",
      "При х=0 f=0\n",
      "При х=1 f=1.00\n",
      "При х=2 f=2.00\n"
     ]
    }
   ],
   "source": [
    "#Проверим, что решили всё правильно\n",
    "print(f'При х=-2 f= {f1.subs(x,-2):.2f}')\n",
    "print(f'При х=-1 f={f1.subs(x,-1):.2f}')\n",
    "print(f'При х=0 f={f1.subs(x, 0)}')\n",
    "print(f'При х=1 f={f1.subs(x, 1):.2f}')\n",
    "print(f'При х=2 f={f1.subs(x, 2):.2f}')"
   ]
  },
  {
   "cell_type": "code",
   "execution_count": 15,
   "metadata": {},
   "outputs": [
    {
     "data": {
      "image/png": "[encoded data removed]",
      "text/latex": [
       "$\\displaystyle -1550.0$"
      ],
      "text/plain": [
       "-1550.00000000000"
      ]
     },
     "execution_count": 15,
     "metadata": {},
     "output_type": "execute_result"
    }
   ],
   "source": [
    "#Проверим на четность/нечетность\n",
    "f1.subs(x, 10)"
   ]
  },
  {
   "cell_type": "code",
   "execution_count": 16,
   "metadata": {},
   "outputs": [
    {
     "data": {
      "image/png": "[encoded data removed]",
      "text/latex": [
       "$\\displaystyle -1550.0$"
      ],
      "text/plain": [
       "-1550.00000000000"
      ]
     },
     "execution_count": 16,
     "metadata": {},
     "output_type": "execute_result"
    }
   ],
   "source": [
    "f1.subs(x, -10)"
   ]
  },
  {
   "cell_type": "markdown",
   "metadata": {},
   "source": [
    "Функция является четной"
   ]
  },
  {
   "cell_type": "code",
   "execution_count": 17,
   "metadata": {},
   "outputs": [
    {
     "data": {
      "image/png": "[encoded data removed]",
      "text/latex": [
       "$\\displaystyle \\left[ -2.64575131106459, \\  0.0, \\  2.64575131106459\\right]$"
      ],
      "text/plain": [
       "[-2.64575131106459, 0.0, 2.64575131106459]"
      ]
     },
     "execution_count": 17,
     "metadata": {},
     "output_type": "execute_result"
    }
   ],
   "source": [
    "#Найдем нули функции\n",
    "solve(f1)"
   ]
  },
  {
   "cell_type": "code",
   "execution_count": 20,
   "metadata": {},
   "outputs": [
    {
     "data": {
      "image/png": "[encoded data removed]",
      "text/latex": [
       "$\\displaystyle \\left(-2.64575131106459 < x \\wedge x < 0\\right) \\vee \\left(0 < x \\wedge x < 2.64575131106459\\right)$"
      ],
      "text/plain": [
       "Or(And(-2.64575131106459 < x, x < 0), And(0 < x, x < 2.64575131106459))"
      ]
     },
     "execution_count": 20,
     "metadata": {},
     "output_type": "execute_result"
    }
   ],
   "source": [
    "#найдем промежутки знаков постоянства\n",
    "solve_univariate_inequality(f1>0, x)"
   ]
  },
  {
   "cell_type": "code",
   "execution_count": 21,
   "metadata": {},
   "outputs": [
    {
     "data": {
      "image/png": "[encoded data removed]",
      "text/latex": [
       "$\\displaystyle \\left(-\\infty < x \\wedge x < -2.64575131106459\\right) \\vee \\left(2.64575131106459 < x \\wedge x < \\infty\\right)$"
      ],
      "text/plain": [
       "Or(And(-oo < x, x < -2.64575131106459), And(2.64575131106459 < x, x < oo))"
      ]
     },
     "execution_count": 21,
     "metadata": {},
     "output_type": "execute_result"
    }
   ],
   "source": [
    "solve_univariate_inequality(f1<0, x)"
   ]
  },
  {
   "cell_type": "code",
   "execution_count": 22,
   "metadata": {},
   "outputs": [
    {
     "data": {
      "image/png": "[encoded data removed]",
      "text/plain": [
       "<Figure size 432x288 with 1 Axes>"
      ]
     },
     "metadata": {
      "needs_background": "light"
     },
     "output_type": "display_data"
    },
    {
     "data": {
      "text/plain": [
       "<sympy.plotting.plot.Plot at 0x2301ce96160>"
      ]
     },
     "execution_count": 22,
     "metadata": {},
     "output_type": "execute_result"
    }
   ],
   "source": [
    "#Построим график\n",
    "plot(f1,(x, -3,3))"
   ]
  },
  {
   "cell_type": "markdown",
   "metadata": {},
   "source": [
    "2. $(-3, 33), (-2, 31), (-1, 18), (1, -18), (2, -31), (3, -33)$"
   ]
  },
  {
   "cell_type": "code",
   "execution_count": 23,
   "metadata": {},
   "outputs": [
    {
     "data": {
      "image/png": "[encoded data removed]",
      "text/latex": [
       "$\\displaystyle a_{0} + a_{1} x + a_{2} x^{2} + a_{3} x^{3} + a_{4} x^{4} + a_{5} x^{5}$"
      ],
      "text/plain": [
       "                2       3       4       5\n",
       "a0 + a1*x + a2*x  + a3*x  + a4*x  + a5*x "
      ]
     },
     "execution_count": 23,
     "metadata": {},
     "output_type": "execute_result"
    }
   ],
   "source": [
    "#Обявим переменную и полином пятой степени (т.к. у нас шесть точек)\n",
    "a5, a4, a3, a2, a1, a0, x = symbols('a5, a4, a3, a2, a1, a0, x')\n",
    "f = a5*x**5 + a4*x**4 + a3*x**3 + a2*x**2 + a1*x + a0\n",
    "f"
   ]
  },
  {
   "cell_type": "code",
   "execution_count": 24,
   "metadata": {},
   "outputs": [],
   "source": [
    "#Подставим занчения точек в функуию и получим шесть уравнений\n",
    "eq1_lp = f.subs(x, -3) - 33\n",
    "eq2_lp = f.subs(x, -2) - 31\n",
    "eq3_lp = f.subs(x, -1) - 18\n",
    "eq4_lp = f.subs(x, 1) + 18\n",
    "eq5_lp = f.subs(x, 2) + 31\n",
    "eq6_lp = f.subs(x, 3) + 33"
   ]
  },
  {
   "cell_type": "code",
   "execution_count": 25,
   "metadata": {},
   "outputs": [
    {
     "data": {
      "image/png": "[encoded data removed]",
      "text/latex": [
       "$\\displaystyle \\left\\{\\left( \\frac{1}{120}, \\  0, \\  \\frac{19}{24}, \\  0, \\  - \\frac{94}{5}, \\  0\\right)\\right\\}$"
      ],
      "text/plain": [
       "            19               \n",
       "{(1/120, 0, --, 0, -94/5, 0)}\n",
       "            24               "
      ]
     },
     "execution_count": 25,
     "metadata": {},
     "output_type": "execute_result"
    }
   ],
   "source": [
    "#Решим получившуюся систему\n",
    "nonlinsolve([eq1_lp, eq2_lp, eq3_lp, eq4_lp, eq5_lp, eq6_lp], [a5, a4, a3, a2, a1, a0])"
   ]
  },
  {
   "cell_type": "code",
   "execution_count": 26,
   "metadata": {},
   "outputs": [
    {
     "data": {
      "image/png": "[encoded data removed]",
      "text/latex": [
       "$\\displaystyle 0.00833333333333333 x^{5} + 0.791666666666667 x^{3} - 18.8 x$"
      ],
      "text/plain": [
       "                     5                      3         \n",
       "0.00833333333333333*x  + 0.791666666666667*x  - 18.8*x"
      ]
     },
     "execution_count": 26,
     "metadata": {},
     "output_type": "execute_result"
    }
   ],
   "source": [
    "#Запишем получившееся уравнение\n",
    "f2 = 1/120*x**5 + 19/24*x**3 - 94/5*x\n",
    "f2"
   ]
  },
  {
   "cell_type": "code",
   "execution_count": 28,
   "metadata": {},
   "outputs": [
    {
     "name": "stdout",
     "output_type": "stream",
     "text": [
      "При х=-3 f= 33.00\n",
      "При х=-2 f= 31.00\n",
      "При х=-1 f= 18.0000000000000\n",
      "При х=1 f= -18.00\n",
      "При х=2 f= -31.00\n",
      "При х=3 f= -33.00\n"
     ]
    }
   ],
   "source": [
    "#Проверим, что решили всё правильно\n",
    "print(f'При х=-3 f= {f2.subs(x,-3):.2f}')\n",
    "print(f'При х=-2 f= {f2.subs(x,-2):.2f}')\n",
    "print(f'При х=-1 f= {f2.subs(x, -1)}')\n",
    "print(f'При х=1 f= {f2.subs(x, 1):.2f}')\n",
    "print(f'При х=2 f= {f2.subs(x, 2):.2f}')\n",
    "print(f'При х=3 f= {f2.subs(x, 3):.2f}')"
   ]
  },
  {
   "cell_type": "markdown",
   "metadata": {},
   "source": [
    "Уже видно что функция является нечетной"
   ]
  },
  {
   "cell_type": "code",
   "execution_count": 29,
   "metadata": {},
   "outputs": [
    {
     "data": {
      "image/png": "[encoded data removed]",
      "text/latex": [
       "$\\displaystyle \\left[ -4.43545751638198, \\  0.0, \\  4.43545751638198, \\  - 10.7085612189327 i, \\  10.7085612189327 i\\right]$"
      ],
      "text/plain": [
       "[-4.43545751638198, 0.0, 4.43545751638198, -10.7085612189327*I, 10.7085612189327*I]"
      ]
     },
     "execution_count": 29,
     "metadata": {},
     "output_type": "execute_result"
    }
   ],
   "source": [
    "#Найдем нуди функции\n",
    "solve(f2)"
   ]
  },
  {
   "cell_type": "code",
   "execution_count": 30,
   "metadata": {},
   "outputs": [
    {
     "data": {
      "image/png": "[encoded data removed]",
      "text/latex": [
       "$\\displaystyle \\left(-4.43545751638198 < x \\wedge x < 0\\right) \\vee \\left(4.43545751638198 < x \\wedge x < \\infty\\right)$"
      ],
      "text/plain": [
       "Or(And(-4.43545751638198 < x, x < 0), And(4.43545751638198 < x, x < oo))"
      ]
     },
     "execution_count": 30,
     "metadata": {},
     "output_type": "execute_result"
    }
   ],
   "source": [
    "#найдем промежутки знаков постоянства\n",
    "solve_univariate_inequality(f2>0, x)"
   ]
  },
  {
   "cell_type": "code",
   "execution_count": 31,
   "metadata": {},
   "outputs": [
    {
     "data": {
      "image/png": "[encoded data removed]",
      "text/latex": [
       "$\\displaystyle \\left(-\\infty < x \\wedge x < -4.43545751638198\\right) \\vee \\left(0 < x \\wedge x < 4.43545751638198\\right)$"
      ],
      "text/plain": [
       "Or(And(-oo < x, x < -4.43545751638198), And(0 < x, x < 4.43545751638198))"
      ]
     },
     "execution_count": 31,
     "metadata": {},
     "output_type": "execute_result"
    }
   ],
   "source": [
    "solve_univariate_inequality(f2<0, x)"
   ]
  },
  {
   "cell_type": "code",
   "execution_count": 33,
   "metadata": {},
   "outputs": [
    {
     "data": {
      "image/png": "[encoded data removed]",
      "text/plain": [
       "<Figure size 432x288 with 1 Axes>"
      ]
     },
     "metadata": {
      "needs_background": "light"
     },
     "output_type": "display_data"
    },
    {
     "data": {
      "text/plain": [
       "<sympy.plotting.plot.Plot at 0x2301ce9e390>"
      ]
     },
     "execution_count": 33,
     "metadata": {},
     "output_type": "execute_result"
    }
   ],
   "source": [
    "#Построим график\n",
    "plot(f2,(x, -5, 5))"
   ]
  }
 ],
 "metadata": {
  "colab": {
   "collapsed_sections": [],
   "name": "Преобразования функций и полиномы. Домашнее задание.ipynb",
   "provenance": []
  },
  "kernelspec": {
   "display_name": "Python 3",
   "language": "python",
   "name": "python3"
  },
  "language_info": {
   "codemirror_mode": {
    "name": "ipython",
    "version": 3
   },
   "file_extension": ".py",
   "mimetype": "text/x-python",
   "name": "python",
   "nbconvert_exporter": "python",
   "pygments_lexer": "ipython3",
   "version": "3.7.3"
  }
 },
 "nbformat": 4,
 "nbformat_minor": 4
}
