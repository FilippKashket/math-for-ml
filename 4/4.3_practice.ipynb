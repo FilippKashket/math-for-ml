{
 "cells": [
  {
   "cell_type": "markdown",
   "metadata": {
    "colab_type": "text",
    "id": "TYHgCwj8xLbo"
   },
   "source": [
    "## Свойства коэффициентов квадратичной функции. Практика\n",
    "\n",
    "В качестве практики подберите, варьируя коэффициенты, квадратичную функцию для набора точек. Другими словами, вам нужно решить задачу интерполяции полиномом второй степени. Ниже вы найдете код, который создает ползунки, с помощью которых можно варьировать коэффициенты a, b и c, подбирая нужный вид параболы, а также рисует набор точек. <br><br>\n",
    "Программа будет печатать над графиком актуальный вид функции и сама скажет вам, когда вы достигнете цели. \n"
   ]
  },
  {
   "cell_type": "code",
   "execution_count": 1,
   "metadata": {
    "colab": {},
    "colab_type": "code",
    "id": "6jTnfZNO8EIx"
   },
   "outputs": [],
   "source": [
    "%matplotlib inline\n",
    "from ipywidgets import interactive\n",
    "import matplotlib.pyplot as plt\n",
    "import numpy as np"
   ]
  },
  {
   "cell_type": "code",
   "execution_count": 2,
   "metadata": {
    "colab": {},
    "colab_type": "code",
    "id": "vR8eUwC88EJC"
   },
   "outputs": [],
   "source": [
    "def get_polyfunc_title(koefs):\n",
    "    s_koefs = ''.join([f'+{koefs[i]}x^{len(koefs)-i-1}' if koefs[i]>0 \n",
    "                       else f'{koefs[i]}x^{len(koefs)-i-1}' if koefs[i]<0 \n",
    "                       else ''\n",
    "                       for i in range(len(koefs))])\n",
    "    expr = s_koefs.replace('x^0', '') \\\n",
    "                  .replace('+', ' + ') \\\n",
    "                  .replace('-', ' - ') \\\n",
    "                  .replace('x^1', 'x') \\\n",
    "                  .replace(' 1x', ' x')\n",
    "\n",
    "    if expr[:3]==' + ':\n",
    "        expr = expr[3:]\n",
    "    if expr:\n",
    "        return '$f(x) = ' + expr + '$'\n",
    "    \n",
    "def check(f, x, y):\n",
    "    check = False not in [f(x[i])==y[i] for i in range(len(x))]\n",
    "    if not check:\n",
    "        print('Пока не получилось')\n",
    "    else:\n",
    "        print('Ура! Получилось!')"
   ]
  },
  {
   "cell_type": "code",
   "execution_count": 3,
   "metadata": {
    "colab": {},
    "colab_type": "code",
    "id": "uDeNNBzH8EJP"
   },
   "outputs": [],
   "source": [
    "def parabola(a, b, c):\n",
    "    plt.figure(3)\n",
    "    plt.axhline(0, color='black')\n",
    "    plt.axvline(0, color='black')\n",
    "\n",
    "    x, y = [x for x, y in points], [y for x, y in points]\n",
    "    plt.scatter(x, y, c='r')\n",
    "\n",
    "\n",
    "    \n",
    "    if a != 0:\n",
    "        f = lambda x: a * x**2 + b * x + c\n",
    "        check(f, x, y)\n",
    "        \n",
    "        x = np.linspace(-15, 15, num=1000)\n",
    "        plt.plot(x, a * x**2 + b * x + c)\n",
    "    \n",
    "    plt.ylim(-35, 35)\n",
    "    plt.xlim(-10, 10)\n",
    "        \n",
    "    plt.title(get_polyfunc_title([a,b,c]))\n",
    "    plt.show()"
   ]
  },
  {
   "cell_type": "code",
   "execution_count": 4,
   "metadata": {
    "colab": {
     "base_uri": "https://localhost:8080/",
     "height": 17,
     "referenced_widgets": [
      "23b53252b1624e90804a7c7447562d67"
     ]
    },
    "colab_type": "code",
    "id": "aon-5jaz8EJZ",
    "outputId": "1acc2458-bf4f-45a6-a2dc-552fc2127d00"
   },
   "outputs": [
    {
     "data": {
      "application/vnd.jupyter.widget-view+json": {
       "model_id": "3d3ff69b4415407e9c98b115995a3b7e",
       "version_major": 2,
       "version_minor": 0
      },
      "text/plain": [
       "interactive(children=(IntSlider(value=0, description='a', max=5, min=-5), IntSlider(value=0, description='b', …"
      ]
     },
     "metadata": {},
     "output_type": "display_data"
    }
   ],
   "source": [
    "points = [[-2.5, 15.0], \n",
    "          [-2, 10], \n",
    "          [-1.5, 7.0], \n",
    "          [-1, 6], \n",
    "          [-0.5, 7.0], \n",
    "          [0, 10], \n",
    "          [0.5, 15.0], \n",
    "          [1, 22], \n",
    "          [1.5, 31.0]]\n",
    "\n",
    "interactive_plot = interactive(parabola, a=(-5, 5, 1), b=(-100, 100, 1), c=(-20, 20, 1))\n",
    "output = interactive_plot.children[-1]\n",
    "output.layout.height = '300px'\n",
    "interactive_plot"
   ]
  },
  {
   "cell_type": "code",
   "execution_count": 5,
   "metadata": {
    "colab": {
     "base_uri": "https://localhost:8080/",
     "height": 17,
     "referenced_widgets": [
      "92dac8a4be7a4aefa864a0f42507de69"
     ]
    },
    "colab_type": "code",
    "id": "O1npt0om8EJg",
    "outputId": "19f4ba1b-9271-41f5-dc1a-3b3e8ec5d017"
   },
   "outputs": [
    {
     "data": {
      "application/vnd.jupyter.widget-view+json": {
       "model_id": "26c9cc0229bf4ca9a51aa6db5afdea17",
       "version_major": 2,
       "version_minor": 0
      },
      "text/plain": [
       "interactive(children=(IntSlider(value=0, description='a', max=5, min=-5), IntSlider(value=0, description='b', …"
      ]
     },
     "metadata": {},
     "output_type": "display_data"
    }
   ],
   "source": [
    "points = [[-5.0, -68.0], \n",
    "          [-3.75, -42.375], \n",
    "          [-2.5, -23.0], \n",
    "          [-1.25, -9.875], \n",
    "          [0.0, -3.0], \n",
    "          [1.25, -2.375], \n",
    "          [2.5, -8.0], \n",
    "          [3.75, -19.875], \n",
    "          [5.0, -38.0]]\n",
    "\n",
    "interactive_plot = interactive(parabola, a=(-5, 5, 1), b=(-100, 100, 1), c=(-20, 20, 1))\n",
    "output = interactive_plot.children[-1]\n",
    "output.layout.height = '300px'\n",
    "interactive_plot"
   ]
  }
 ],
 "metadata": {
  "colab": {
   "name": "Свойства коэффициентов квадратичной функции. Практика.ipynb",
   "provenance": []
  },
  "kernelspec": {
   "display_name": "Python 3",
   "language": "python",
   "name": "python3"
  },
  "language_info": {
   "codemirror_mode": {
    "name": "ipython",
    "version": 3
   },
   "file_extension": ".py",
   "mimetype": "text/x-python",
   "name": "python",
   "nbconvert_exporter": "python",
   "pygments_lexer": "ipython3",
   "version": "3.7.3"
  },
  "widgets": {
   "application/vnd.jupyter.widget-state+json": {
    "23b53252b1624e90804a7c7447562d67": {
     "model_module": "@jupyter-widgets/controls",
     "model_name": "VBoxModel",
     "state": {
      "_dom_classes": [
       "widget-interact"
      ],
      "_model_module": "@jupyter-widgets/controls",
      "_model_module_version": "1.5.0",
      "_model_name": "VBoxModel",
      "_view_count": null,
      "_view_module": "@jupyter-widgets/controls",
      "_view_module_version": "1.5.0",
      "_view_name": "VBoxView",
      "box_style": "",
      "children": [
       "IPY_MODEL_c0aac1d33ec64b58a987c5931ca76df2",
       "IPY_MODEL_d78373d6170641b4972a006443c3c716",
       "IPY_MODEL_f30928aa317240f1b817c9863da58c1e",
       "IPY_MODEL_0de35e308c82461ba14ef9d2505f1b11"
      ],
      "layout": "IPY_MODEL_444c7bc3446548888acf56071411f992"
     }
    },
    "92dac8a4be7a4aefa864a0f42507de69": {
     "model_module": "@jupyter-widgets/controls",
     "model_name": "VBoxModel",
     "state": {
      "_dom_classes": [
       "widget-interact"
      ],
      "_model_module": "@jupyter-widgets/controls",
      "_model_module_version": "1.5.0",
      "_model_name": "VBoxModel",
      "_view_count": null,
      "_view_module": "@jupyter-widgets/controls",
      "_view_module_version": "1.5.0",
      "_view_name": "VBoxView",
      "box_style": "",
      "children": [
       "IPY_MODEL_eb9f298816a0464f90b78131457eedfe",
       "IPY_MODEL_a10069c96f7d45cab08408305b670988",
       "IPY_MODEL_de7aa150ba654fa88390d2a08ae964e4",
       "IPY_MODEL_f11fe5be00a54bc889dc894499764724"
      ],
      "layout": "IPY_MODEL_ab7a4fb654b64c4797acc5e305e71e4d"
     }
    }
   }
  }
 },
 "nbformat": 4,
 "nbformat_minor": 4
}
