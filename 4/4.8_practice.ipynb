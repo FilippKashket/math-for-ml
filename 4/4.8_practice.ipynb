{
 "cells": [
  {
   "cell_type": "markdown",
   "metadata": {
    "colab_type": "text",
    "id": "mEFNuokq2MMZ"
   },
   "source": [
    "## Нахождение коэффициентов полиномов аналитически. Практика\n",
    "\n",
    "Для закрепления пройденного материала найдите коэффициенты функции для данного набора точек, и затем проверьте с помощью подстановки, правильный ли у вас получился результат. Степень полинома для составления системы выберите сами, исходя из пройденного в первом уроке правила.\n",
    "\n",
    "1. $(-2.5, 15.0), (-2, 10), (-1.5, 7.0)$\n",
    "2. $(-0.5, -15.0), (-1, -31), (0, -7), (0.5, -4.0)$\n"
   ]
  },
  {
   "cell_type": "code",
   "execution_count": 1,
   "metadata": {},
   "outputs": [],
   "source": [
    "from sympy import *\n",
    "from sympy.plotting import plot\n",
    "\n",
    "init_printing(use_unicode=False, wrap_line=False, no_global =True)"
   ]
  },
  {
   "cell_type": "markdown",
   "metadata": {
    "colab": {},
    "colab_type": "code",
    "id": "67VSSj5P12-l"
   },
   "source": [
    "1. $(-2.5, 15.0), (-2, 10), (-1.5, 7.0)$\n"
   ]
  },
  {
   "cell_type": "code",
   "execution_count": 2,
   "metadata": {},
   "outputs": [
    {
     "data": {
      "image/png": "[encoded data removed]",
      "text/latex": [
       "$\\displaystyle a_{0} + a_{1} x + a_{2} x^{2}$"
      ],
      "text/plain": [
       "                2\n",
       "a0 + a1*x + a2*x "
      ]
     },
     "execution_count": 2,
     "metadata": {},
     "output_type": "execute_result"
    }
   ],
   "source": [
    "#Обявим переменные и квадратическую функцию(т.к. у нас 3 точки)\n",
    "a2, a1, a0, x =symbols('a2, a1, a0, x')\n",
    "f = a2*x**2+a1*x+a0\n",
    "f"
   ]
  },
  {
   "cell_type": "code",
   "execution_count": 10,
   "metadata": {},
   "outputs": [],
   "source": [
    "#Подставим занчения точек в функуию и получим три уравнения\n",
    "eq1_lp = f.subs(x, -2.5) -15\n",
    "eq2_lp = f.subs(x, -2)-10\n",
    "eq3_lp = f.subs(x, -1.5)-7"
   ]
  },
  {
   "cell_type": "code",
   "execution_count": 9,
   "metadata": {},
   "outputs": [
    {
     "data": {
      "image/png": "[encoded data removed]",
      "text/latex": [
       "$\\displaystyle \\left\\{\\left( 4.0, \\  8.00000000000002, \\  10.0\\right)\\right\\}$"
      ],
      "text/plain": [
       "{(4.0, 8.00000000000002, 10.0)}"
      ]
     },
     "execution_count": 9,
     "metadata": {},
     "output_type": "execute_result"
    }
   ],
   "source": [
    "#Решим получившуюся систему\n",
    "nonlinsolve([eq1_lp, eq2_lp, eq3_lp],[a2, a1, a0])"
   ]
  },
  {
   "cell_type": "code",
   "execution_count": 11,
   "metadata": {},
   "outputs": [
    {
     "data": {
      "image/png": "[encoded data removed]",
      "text/latex": [
       "$\\displaystyle 4 x^{2} + 8 x + 10$"
      ],
      "text/plain": [
       "   2           \n",
       "4*x  + 8*x + 10"
      ]
     },
     "execution_count": 11,
     "metadata": {},
     "output_type": "execute_result"
    }
   ],
   "source": [
    "#Запишем получившуюся функцию\n",
    "f1 = 4*x**2+ 8*x+ 10\n",
    "f1"
   ]
  },
  {
   "cell_type": "code",
   "execution_count": 19,
   "metadata": {},
   "outputs": [
    {
     "name": "stdout",
     "output_type": "stream",
     "text": [
      "При х=-2.5 f= 15.00\n",
      "При х=-2 f=10\n",
      "При х=-1.5 f=7.00\n"
     ]
    }
   ],
   "source": [
    "#Мы получили a1=8.00000000000002 но это скорее всего из-за особенностей хранения чисел или потому что уравнение решалось численными методами.\n",
    "#Нада проверить это подставив точки в функцию\n",
    "print(f'При х=-2.5 f= {f1.subs(x,-2.5):.2f}')\n",
    "print(f'При х=-2 f={f1.subs(x,-2)}')\n",
    "print(f'При х=-1.5 f={f1.subs(x, -1.5):.2f}')"
   ]
  },
  {
   "cell_type": "markdown",
   "metadata": {},
   "source": [
    "2. $(-0.5, -15.0), (-1, -31), (0, -7), (0.5, -4.0)$"
   ]
  },
  {
   "cell_type": "code",
   "execution_count": 27,
   "metadata": {},
   "outputs": [
    {
     "data": {
      "image/png": "[encoded data removed]",
      "text/latex": [
       "$\\displaystyle a_{0} + a_{1} x + a_{2} x^{2} + a_{3} x^{3}$"
      ],
      "text/plain": [
       "                2       3\n",
       "a0 + a1*x + a2*x  + a3*x "
      ]
     },
     "execution_count": 27,
     "metadata": {},
     "output_type": "execute_result"
    }
   ],
   "source": [
    "#Обявим переменные и кубическую функцию(т.к. у нас 4 точки)\n",
    "a3, a2, a1, a0, x =symbols('a3, a2, a1, a0, x')\n",
    "f = a3*x**3+ a2*x**2+a1*x+a0\n",
    "f"
   ]
  },
  {
   "cell_type": "code",
   "execution_count": 28,
   "metadata": {},
   "outputs": [],
   "source": [
    "#Подставим занчения точек в функуию и получим три уравнения\n",
    "eq1_lp = f.subs(x, -0.5) +15\n",
    "eq2_lp = f.subs(x, -1)+31\n",
    "eq3_lp = f.subs(x, 0)+7\n",
    "eq4_lp = f.subs(x, 0.5)+4"
   ]
  },
  {
   "cell_type": "code",
   "execution_count": 29,
   "metadata": {},
   "outputs": [
    {
     "data": {
      "image/png": "[encoded data removed]",
      "text/latex": [
       "$\\displaystyle \\left\\{\\left( 4.0, \\  -10.0, \\  10.0, \\  -7.0\\right)\\right\\}$"
      ],
      "text/plain": [
       "{(4.0, -10.0, 10.0, -7.0)}"
      ]
     },
     "execution_count": 29,
     "metadata": {},
     "output_type": "execute_result"
    }
   ],
   "source": [
    "#Решим получившуюся систему\n",
    "nonlinsolve([eq1_lp, eq2_lp, eq3_lp, eq4_lp],[a3, a2, a1, a0])"
   ]
  },
  {
   "cell_type": "code",
   "execution_count": 32,
   "metadata": {},
   "outputs": [
    {
     "data": {
      "image/png": "[encoded data removed]",
      "text/latex": [
       "$\\displaystyle 4 x^{3} - 10 x^{2} + 10 x - 7$"
      ],
      "text/plain": [
       "   3       2           \n",
       "4*x  - 10*x  + 10*x - 7"
      ]
     },
     "execution_count": 32,
     "metadata": {},
     "output_type": "execute_result"
    }
   ],
   "source": [
    "#Запишем получившуюся функцию\n",
    "f2 = 4*x**3 - 10*x**2 + 10*x -7\n",
    "f2"
   ]
  },
  {
   "cell_type": "code",
   "execution_count": 35,
   "metadata": {},
   "outputs": [
    {
     "name": "stdout",
     "output_type": "stream",
     "text": [
      "При х=-0.5 f= -15.00\n",
      "При х=-1 f=-31\n",
      "При х=0 f=-7\n",
      "При х=0.5 f=-4.00\n"
     ]
    }
   ],
   "source": [
    "#Проверим, что решили всё правильно\n",
    "print(f'При х=-0.5 f= {f2.subs(x,-0.5):.2f}')\n",
    "print(f'При х=-1 f={f2.subs(x,-1)}')\n",
    "print(f'При х=0 f={f2.subs(x, 0)}')\n",
    "print(f'При х=0.5 f={f2.subs(x, 0.5):.2f}')"
   ]
  }
 ],
 "metadata": {
  "colab": {
   "collapsed_sections": [],
   "name": "Нахождение коэффициентов полиномов аналитически. Практика.ipynb",
   "provenance": []
  },
  "kernelspec": {
   "display_name": "Python 3",
   "language": "python",
   "name": "python3"
  },
  "language_info": {
   "codemirror_mode": {
    "name": "ipython",
    "version": 3
   },
   "file_extension": ".py",
   "mimetype": "text/x-python",
   "name": "python",
   "nbconvert_exporter": "python",
   "pygments_lexer": "ipython3",
   "version": "3.7.3"
  }
 },
 "nbformat": 4,
 "nbformat_minor": 4
}
