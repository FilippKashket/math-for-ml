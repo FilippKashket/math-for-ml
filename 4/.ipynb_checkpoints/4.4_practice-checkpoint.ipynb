{
 "cells": [
  {
   "cell_type": "markdown",
   "metadata": {
    "colab_type": "text",
    "id": "qAy8p7ns0065"
   },
   "source": [
    "## Свойства коэффициентов кубической функции. Практика\n",
    "\n",
    "В качестве практики подберите, как и в прошлый раз, варьируя коэффициенты, функцию для набора точек. Только в этот раз функция будет кубическая. Получается, вам нужно решить задачу интерполяции полиномом третьей степени. Интерфейс для выполнения задания аналогичен тому, который был в практике к предыдущему уроку."
   ]
  },
  {
   "cell_type": "code",
   "execution_count": 1,
   "metadata": {
    "colab": {},
    "colab_type": "code",
    "id": "YYcdUQiHACdC"
   },
   "outputs": [],
   "source": [
    "%matplotlib inline\n",
    "from ipywidgets import interactive\n",
    "import matplotlib.pyplot as plt\n",
    "import numpy as np"
   ]
  },
  {
   "cell_type": "code",
   "execution_count": 2,
   "metadata": {
    "colab": {},
    "colab_type": "code",
    "id": "PvczpL-OACdS"
   },
   "outputs": [],
   "source": [
    "def get_polyfunc_title(koefs):\n",
    "    s_koefs = ''.join([f'+{koefs[i]}x^{len(koefs)-i-1}' if koefs[i]>0 \n",
    "                       else f'{koefs[i]}x^{len(koefs)-i-1}' if koefs[i]<0 \n",
    "                       else ''\n",
    "                       for i in range(len(koefs))])\n",
    "    expr = s_koefs.replace('x^0', '') \\\n",
    "                  .replace('+', ' + ') \\\n",
    "                  .replace('-', ' - ') \\\n",
    "                  .replace('x^1', 'x') \\\n",
    "                  .replace(' 1x', ' x')\n",
    "\n",
    "    if expr[:3]==' + ':\n",
    "        expr = expr[3:]\n",
    "    if expr:\n",
    "        return '$f(x) = ' + expr + '$'\n",
    "    \n",
    "def check(f, x, y):\n",
    "    check = False not in [f(x[i])==y[i] for i in range(len(x))]\n",
    "    if not check:\n",
    "        print('Пока не получилось')\n",
    "    else:\n",
    "        print('Ура! Получилось!')"
   ]
  },
  {
   "cell_type": "code",
   "execution_count": 3,
   "metadata": {
    "colab": {},
    "colab_type": "code",
    "id": "53rk2-niACdd"
   },
   "outputs": [],
   "source": [
    "def cubic_parabola(a, b, c, d):\n",
    "    plt.figure(3)\n",
    "    plt.axhline(0, color='black')\n",
    "    plt.axvline(0, color='black')\n",
    "\n",
    "    x, y = [x for x, y in points], [y for x, y in points]\n",
    "    plt.scatter(x, y, c='r')\n",
    "    \n",
    "    if a!=0:\n",
    "        f = lambda x: a * x**3 + b * x**2 + c * x + d\n",
    "        check(f, x, y)\n",
    "        \n",
    "        x = np.linspace(-15, 15, num=1000)\n",
    "        plt.plot(x, a * x**3 + b * x**2 + c * x + d)\n",
    "        \n",
    "    plt.ylim(-35, 35)\n",
    "    plt.xlim(-5, 5)\n",
    "    \n",
    "    plt.title(get_polyfunc_title([a,b,c,d]))\n",
    "    \n",
    "    plt.show()"
   ]
  },
  {
   "cell_type": "code",
   "execution_count": 4,
   "metadata": {
    "colab": {},
    "colab_type": "code",
    "id": "hoJJtIQNACdo",
    "outputId": "56556702-8f70-409c-9e16-039217dc9ade"
   },
   "outputs": [
    {
     "data": {
      "application/vnd.jupyter.widget-view+json": {
       "model_id": "477d9fb1ba864240b333030fd990f0c8",
       "version_major": 2,
       "version_minor": 0
      },
      "text/plain": [
       "interactive(children=(IntSlider(value=0, description='a', max=15, min=-15), IntSlider(value=0, description='b'…"
      ]
     },
     "metadata": {},
     "output_type": "display_data"
    }
   ],
   "source": [
    "points = [[-0.5, -15.0],\n",
    "          [-1, -31],\n",
    "          [0, -7],\n",
    "          [0.5, -4.0],\n",
    "          [1, -3],\n",
    "          [2, 5],\n",
    "          [2.5, 18.0],\n",
    "          [3, 41]]\n",
    "\n",
    "interactive_plot = interactive(cubic_parabola, a=(-15, 15, 1), b=(-10, 10, 1), c=(-10, 10, 1), d=(-10, 10, 1))\n",
    "output = interactive_plot.children[-1]\n",
    "output.layout.height = '300px'\n",
    "interactive_plot"
   ]
  },
  {
   "cell_type": "code",
   "execution_count": 5,
   "metadata": {
    "colab": {},
    "colab_type": "code",
    "id": "dA2JdL3bACdx",
    "outputId": "418c296e-5ece-4941-ad21-1f9268d9def7"
   },
   "outputs": [
    {
     "data": {
      "application/vnd.jupyter.widget-view+json": {
       "model_id": "00822e0ea5484b4cbdc11ee950646334",
       "version_major": 2,
       "version_minor": 0
      },
      "text/plain": [
       "interactive(children=(IntSlider(value=0, description='a', max=15, min=-15), IntSlider(value=0, description='b'…"
      ]
     },
     "metadata": {},
     "output_type": "display_data"
    }
   ],
   "source": [
    "points = [[-5.0, -68.0],\n",
    "          [-3.75, -8.234375],\n",
    "          [-2.5, 16.375],\n",
    "          [-1.25, 17.546875],\n",
    "          [0.0, 7.0],\n",
    "          [1.25, -3.546875],\n",
    "          [2.5, -2.375],\n",
    "          [3.75, 22.234375],\n",
    "          [5.0, 82.0]]\n",
    "\n",
    "interactive_plot = interactive(cubic_parabola, a=(-15, 15, 1), b=(-10, 10, 1), c=(-10, 10, 1), d=(-10, 10, 1))\n",
    "output = interactive_plot.children[-1]\n",
    "output.layout.height = '300px'\n",
    "interactive_plot"
   ]
  }
 ],
 "metadata": {
  "colab": {
   "name": "Свойства коэффициентов кубической функции. Практика.ipynb",
   "provenance": []
  },
  "kernelspec": {
   "display_name": "Python 3",
   "language": "python",
   "name": "python3"
  },
  "language_info": {
   "codemirror_mode": {
    "name": "ipython",
    "version": 3
   },
   "file_extension": ".py",
   "mimetype": "text/x-python",
   "name": "python",
   "nbconvert_exporter": "python",
   "pygments_lexer": "ipython3",
   "version": "3.7.3"
  }
 },
 "nbformat": 4,
 "nbformat_minor": 1
}
